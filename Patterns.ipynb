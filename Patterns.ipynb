{
  "nbformat": 4,
  "nbformat_minor": 0,
  "metadata": {
    "colab": {
      "provenance": []
    },
    "kernelspec": {
      "name": "python3",
      "display_name": "Python 3"
    },
    "language_info": {
      "name": "python"
    }
  },
  "cells": [
    {
      "cell_type": "markdown",
      "source": [
        "1.\n",
        "\n",
        "![image.png](data:image/png;base64,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)"
      ],
      "metadata": {
        "id": "uQE-WXrQ-k6M"
      }
    },
    {
      "cell_type": "code",
      "source": [
        "for i in range(5):\n",
        "  for j in range(5):\n",
        "    print(\"*\", end=\"\")\n",
        "  print(\" \")"
      ],
      "metadata": {
        "colab": {
          "base_uri": "https://localhost:8080/"
        },
        "id": "0KpIL7AC-mgi",
        "outputId": "55aa2bf3-0fe3-4655-c08b-d9ce9e9df1d6"
      },
      "execution_count": 15,
      "outputs": [
        {
          "output_type": "stream",
          "name": "stdout",
          "text": [
            "***** \n",
            "***** \n",
            "***** \n",
            "***** \n",
            "***** \n"
          ]
        }
      ]
    },
    {
      "cell_type": "markdown",
      "source": [
        "2.\n",
        "\n",
        "![image.png](data:image/png;base64,iVBORw0KGgoAAAANSUhEUgAAAEMAAAB4CAIAAAAmFdhKAAACKklEQVR4Ae2aYaoDIQyEe6S9/+V88AQZXKzJrFNknf5Y0tSMyXxCqfRT3vL6vGWQ4kn2Q2kmZqJz4LzTdf2/dI4+V44yecMkdQZ8PvdPoRBisv8YpcS+4181ST0P13UpDsYSzdDpWrKTWsSTqB3O65tJ3jN1hZmoHc7rm0neM3WFmagdzuubSd4zdYWZqB3O65/HpP5svDs1yt9XqjNRJqOOR3l133f9+SS1V3xWFczsMM98klIKNo1mjPK45mfxeZO0E4Uet6uWFuCnP45DTH7cE7edJ+F8U1aZidJdTttMON+UVWaidJfTNhPON2WVmSjd5bTNhPNNWWUmSnc57SiT0Z1DNs91Gak6aRK8QEEC2XzE1ydrQkywadwsm8fa5fF5k1QLu9ug9rYF3bIuv5wDCoaYYMG2sSfZD42ZmInOAZ8unbesspmwzunqzETnLatsJqxzujoz0XnLKp/HBO8i0LVVedTk4iiTVR2PdLjusWo+Sd0bn7UeM9hfNo/dPInnkxD/JcJhsLlRHtfQ8XmTVKu6W5/2tgXdsmCe5oCFISZYsG3sSfZDYyZmonPAp0vnLatsJqxzujoz0XnLKpsJ65yuzkx03rLKUSb4Sx33Uudxr+/xSZPgNQISUOe/E7h/GmKCTaOEOo97TePzJqmWBO9K2rIWdOXB/JQDLggxwYJtY0+yHxozMROdAz5dOm9ZZTNhndPVmYnOW1bZTFjndHVmovOWVf4DIB4HYpglNNgAAAAASUVORK5CYII=)"
      ],
      "metadata": {
        "id": "vdEZWKoFBm8c"
      }
    },
    {
      "cell_type": "code",
      "source": [
        "for i in range(5):\n",
        "  for j in range(i+1):\n",
        "    print(\"*\", end=\"\")\n",
        "  print(\" \")"
      ],
      "metadata": {
        "colab": {
          "base_uri": "https://localhost:8080/"
        },
        "id": "G2ff17yL-6Dr",
        "outputId": "da25bde8-f140-40a4-f4d0-cb080c12a26f"
      },
      "execution_count": 18,
      "outputs": [
        {
          "output_type": "stream",
          "name": "stdout",
          "text": [
            "* \n",
            "** \n",
            "*** \n",
            "**** \n",
            "***** \n"
          ]
        }
      ]
    },
    {
      "cell_type": "markdown",
      "source": [
        "3.\n",
        "![image.png](data:image/png;base64,iVBORw0KGgoAAAANSUhEUgAAAE8AAAB+CAIAAADqcNvZAAADPUlEQVR4Ae2a4W7DIAyE90h9/5fLpFk7nQyOCVCCE/dH5hoD9/loJ6T+HG96/bwJ9kja59qd3qa3z+hAnuRn+FijSG9rXXlGLr19ho81iiZvP3+v2vRgOYdWON9CK94lbbAzLHKdk5zehnQ1vTVse8u3FP8HegBz07eUYXm8dNLG86xVcXrb2ql4deltPM9aFae3rZ2KV5fexvOsVXF629qpeHXpbeFZ9a7Hl8FixqYJx1sLifk53pTyX5ZDK2UlD2c4/l9207+dtEzzItpAqMfR9gsiC8nKs/Nbxf0nORxqv7cRUX1aoeKnnEzOBCJvOslbffZGxCTtSPf2npve7u3PiLr0dqR7e89Nb/f2Z0RdejvSvb3nprd7+zOirsnb6i2Hr0GswMpzzV2xQ2tJZ34Vg4TzSN4bOLQirtTNGY4ZxspzzeK4k5ZVWlRWnucujkdpq0iS/Hw+i2Hc7YZoq6jY8nwUZSuDfloXxi1YySl7ddJaJHx6rZr1kNjRoRXF/JSZnFFUPIRtNgkc2k1UzpKRtLM6ud866e1+nsxSlN7O6uR+66S3+3kyS1F6O6uT+62T3u7nySxF6W3RSXWnk3HrZmflj+PAULHDooTjLfTxNR26GRsxhMtcvMUstRQXfDt2aGV7S7c1Ws1bjfs2Ia/fSctLlL2waGEvT18Zj9JWUWEjSFCGAEMrgyHac+k8is8qJ1dyyl79tK5uFEignutR/d85iibohsQyg8rzGmsiZn01cLxVhqgDyaNQWU3i+wmjqF8ZOLQrpSzYK2kXNPmmLdLbmxq/YNv0dkGTb9oivb2p8Qu2TW8XNPmmLdLbmxq/YNsmb+XiotTgNoOLkRRYeb4G8VJcr5bisimxQ8tSeD/JS0bFKOM8VyqksgwrTA8cWlbJe7NEjq0aNjYe7QkVhlQXBFIlT7qAdSYGnd5CQameAcqysh5Wl0OYPisYoj3Xx6MtSFw/C0+t00/rikOBBOqpdOBElPmJmU5akCgp8NBSrya69Wr9wbcOrTIE4qw8IBWVymMdlR+Ecac7tO78WAVJG8uvK2rT2yvdilWb3sby64ra9PZKt2LVprex/LqiNr290q1Yte/y9hfOK2jBb5C7vwAAAABJRU5ErkJggg==)"
      ],
      "metadata": {
        "id": "npk4I6VBCFLk"
      }
    },
    {
      "cell_type": "code",
      "source": [
        "for i in range(1, 6):\n",
        "  for j in range(1, i+1):\n",
        "    print(j, end=\"\")\n",
        "  print(\" \")"
      ],
      "metadata": {
        "colab": {
          "base_uri": "https://localhost:8080/"
        },
        "id": "PMT3Vu_oB9n_",
        "outputId": "162609f6-41a6-4ddb-ec35-c252586c3e52"
      },
      "execution_count": 21,
      "outputs": [
        {
          "output_type": "stream",
          "name": "stdout",
          "text": [
            "1 \n",
            "12 \n",
            "123 \n",
            "1234 \n",
            "12345 \n"
          ]
        }
      ]
    },
    {
      "cell_type": "markdown",
      "source": [
        "4.\n",
        "![image.png](data:image/png;base64,iVBORw0KGgoAAAANSUhEUgAAAEsAAACDCAIAAABKl3FkAAAC30lEQVR4Ae2Ya47DMAiEe6Tc/3JdZa2gqWMr4CdE0x8tmRrD8DldZT/ft78+bzf4pcP4iMmQDP1PgKfUP6OnDsnwaUL+vydD/4yeOiRDmNDx/wIhRqhimLy92WGCRYdOD63qlJKhU3qpLTIEPG/+pcG/FuF8Gk4p4IwU0mEkWuVeybA8l0gqGUaiVe6VDMtziaSSYSRa5V7JsDyXSKqWIT5eoL+ajmv2xiqH+MSkifdayqrTYTaQ7xcZ4pc1HddsiVUMpbOajZouiRsDg8OajZq+0RWW1jqs2ajpWGNvrHJYs1HT91rKqhscJj/oChXUsxp7L1UO97bYWZ0OOwfoIJ0MHUDobIEMOwfoIJ0MHUDobIEMOwfoIJ0MHUDobIEMrwHig9KlnZ9WHXPXxCqGx3FIN/gcaNVlk5WByiE2hA57dMydGtMhjFduOdDO0Kpn6bMvyfA24Xfeh9bfzNr627hWCNpTKjcbdo83oVJf4em3htbhb1akKzqMRKvcKxmW5xJJJcNItMq9kmF5LpFUMoxEq9wrGZbnEkklQ6AlD1CgneEoPdt21KWB4SgntX1GWcr20TqUtpRPutb1WVsDLw0O5UBi+WQ4+enRMXdsrHIoBiRITcilBG36WEvZblqHWetyKQGeXonvzovrkzjp/dlh6jJ7lxPbr08yJts+O5Sl4gqVFGesZIFVl8SBgdbhnRV6k2+lM1EykzVdEocHWofDCy/bkA6XjXpaITKcNtplG5PhslFPK0SG00a7bGMyXDbqaYXIcNpol22sZVh7Jpit9w/C5vBeL3s4kgWjdNmwOaDDa3R4Gi/t/JytY6222MAwFciOn/WfTtb1ba4wS+tQcjKHy3QpZA3o8H9icrTkxkuDnK1bcRXXaxnO/kWp7V9s2iRqHZo2dbWYDl3haGqGDJvG5iqJDF3haGqGDJvG5iqJDF3haGqGDJvG5iqJDF3haGqGDJvG5irp/Qz/AKpKrO4kCNIIAAAAAElFTkSuQmCC)"
      ],
      "metadata": {
        "id": "4YSzDoF4Co6g"
      }
    },
    {
      "cell_type": "code",
      "source": [
        "for i in range(1, 6):\n",
        "  for j in range(1, i+1):\n",
        "    print(i, end=\"\")\n",
        "  print(\" \")"
      ],
      "metadata": {
        "colab": {
          "base_uri": "https://localhost:8080/"
        },
        "id": "_v5Y2i86CW-0",
        "outputId": "493652ca-0670-40a7-a6ac-52fc9d8027fb"
      },
      "execution_count": 22,
      "outputs": [
        {
          "output_type": "stream",
          "name": "stdout",
          "text": [
            "1  \n",
            "2 2  \n",
            "3 3 3  \n",
            "4 4 4 4  \n",
            "5 5 5 5 5  \n"
          ]
        }
      ]
    },
    {
      "cell_type": "markdown",
      "source": [
        "5.\n",
        "![image.png](data:image/png;base64,iVBORw0KGgoAAAANSUhEUgAAAE4AAACFCAIAAAB651k9AAACdElEQVR4Ae2aUW7DMAxDe6Tc/3IZMGMCM8eDHMsqtbIfnaLYFsnXL2Ov82M+r49xesrqf2QtqqJaOgH9gEvjG4gX1UEwpduiWhrfQLyoDoIp3RbVO3zH96d/s7vfT3zWmaC629Lo/GfG+l0uq00EfreDsINCo/q93JWOy+p5nqge5+3u46zFWla7AI/jaD0rfj1u6ndCnje8VJ9PoNkpqzQoAoWIamCYNEeJKg2KQCGiGhgmzVGiSoMiUIioBoZJc5So0qAIFCKqgWHSHDVBFS/KUH9UH8/cUcvqNVW8FkSGUf3rtF1PXqroCrVE9fHMTbWsdsHa3acVbYk9WvGs3w2Mb3ipxk9OP1FW0yNPGCiqCSGnjxDV9MgTBopqQsjpI0Q1PfKEgaKaEHL6CFFNjzxhoKjehYy3Svh+to97M+sJqrOWRusz7eEsl9UmGr/bEdhBY6M+Ds6vXVYD/50y36FNlFWL4qewC0Er2ht7tOLv/s95b/jrpfoGadEjZTU6UYbzRJWBQrQGUY1OlOE8UWWgEK1BVKMTZThPVBkoRGsQ1ehEGc4TVQYK0RomqOJFGcoY9XENQy2rVwqjy85R/7qb5clLFV2h9lEf15DUstqBsLtPK9oSe7Si28rS8FJl0bugQ1YXwqPdKqq0aBaEiepCeLRbRZUWzYIwUV0Ij3arqNKiWRAmqgvh0W4V1Ts07W7l7k2N3gTVj7CKd2V1DXupotsav9dOpax2kdiFoBXdEvaGlyq7D4c+WXWEVG6JqJZD5hAsqo6Qyi0R1XLIHIJF1RFSuSWiWg6ZQ7CoOkIqt0RUyyFzCBZVR0jllohqOWQOwV9CA0edT21PZQAAAABJRU5ErkJggg==)"
      ],
      "metadata": {
        "id": "jlzqGSt2D2EA"
      }
    },
    {
      "cell_type": "code",
      "source": [
        "l = [0, 1, 2, 3, 4]\n",
        "for i in reversed(l):\n",
        "  for j in range(i+1):\n",
        "    print(\"*\", end=\"\")\n",
        "  print(\" \")"
      ],
      "metadata": {
        "colab": {
          "base_uri": "https://localhost:8080/"
        },
        "id": "-uZA4Y32Dz3r",
        "outputId": "78913a48-973a-4970-abd2-495d8f2b3251"
      },
      "execution_count": 28,
      "outputs": [
        {
          "output_type": "stream",
          "name": "stdout",
          "text": [
            "***** \n",
            "**** \n",
            "*** \n",
            "** \n",
            "* \n"
          ]
        }
      ]
    },
    {
      "cell_type": "code",
      "source": [
        "for i in range(5, 0, -1):\n",
        "  for j in range(i):\n",
        "    print(\"*\", end=\"\")\n",
        "  print(\" \")"
      ],
      "metadata": {
        "colab": {
          "base_uri": "https://localhost:8080/"
        },
        "id": "YzjYkMnMEqq2",
        "outputId": "0db851f8-276f-4b09-fb7a-d211fb11cfe8"
      },
      "execution_count": 31,
      "outputs": [
        {
          "output_type": "stream",
          "name": "stdout",
          "text": [
            "***** \n",
            "**** \n",
            "*** \n",
            "** \n",
            "* \n"
          ]
        }
      ]
    },
    {
      "cell_type": "markdown",
      "source": [
        "6. ![image.png](data:image/png;base64,iVBORw0KGgoAAAANSUhEUgAAAEsAAACBCAIAAAAHX9BvAAADS0lEQVR4Ae2cUY7kIAxE50h9/8tlpFiqLhmIE0iCadV8tNzGmHouZlfsx/5tv/7z9+uAmwjXt1geysP8E9Atze9RpFAeRhPKv37Kw8/+42AsWS618tu2YYlbIVm24rLuOCDk4/kMVuNilHHekuiGGmBz5t44IGRlfDCr57hVA5KyuMxwk/G4k5APbkl0+c/nA85yuyvmgsF4lLCqzJKGZPpQhgC6UVYuoWYkGCI81sSrZzC4fgTJ7e0nDAWhwAL36XRUL3BZ05HpJIR6dyS8ail2G8N617/ja0DoBg9BrTzAHInLo4/LdwCEWwLCcH/+AhHm9yhSKA+jCeVfl4f5PYoUysNoQvnX5WF+jyKF8jCaUP51ebh7VD6FDl49/LByDmPJ5R/9GngITfyiA54pY34u4zxXcs2jbNY8IGRlrIbVc9yqwVBaxbzx3riTkEW0RLu8WeeS3OeheJSwqtiSfBtRhuAhnrLtEOGxXF4FLSdLNU9k+glDrSiwwH0+AVPt2UkI9a4pvMIfLWUB17jVJ74GhG7wENfKA6wcgdvyBEy1Z0BY3bNWUoRr+VVTKw9rU1krJw/X8qumVh7WprJWTh6u5VdNrTysTWWtnDzc/SqfQidfSRncDjzkRx3LZWYXo4zzSL4fBIQmqNTKGY4ZoJXnmhfiTkJW1iJp5XnvC/EoYRXDkvgnjxcwDo4YIqzi4bDjVZQ9HfQThgBhwdNs1r+TsKWeb2ar5h0wnBIQmkr+tJ2ccSS8hGMmBgHhRGV3HS3CuyY5r488nDf7u06Wh3dNcl4feThv9nedLA/vmuS8PvJw3uzvOvmUh+71YGdne0O0JhIQtjCYmePWMRPzASHbxSqZimOuSRJ3ErL6HydMjrdt5/6PoRZGK88OT4/7b+kSeP0eroIXExoJf9qt40xy2lO3dPrv0ogAEY5ML8deeZjDhxEV8nBkejn2ysMcPoyokIcj08uxVx7m8GFEhTzcp5f8fXTscOAhvwOPG6VdDQhN9y97KMK0d/MrTLd0n4V+D79XImEU3FL+22JRJwPChJ5clSTCqxPLVy8P83lyVZE8vDqxfPXyMJ8nVxXJw6sTy1cvD/N5clWRPLw6sXz18jCfJ1cV/b6H/yjZJtkXokTjAAAAAElFTkSuQmCC)"
      ],
      "metadata": {
        "id": "vT4gOC81FqzV"
      }
    },
    {
      "cell_type": "code",
      "source": [
        "for i in range(6, 0, -1):\n",
        "  for j in range(1, i):\n",
        "    print(j, end=\"\")\n",
        "  print(\" \")"
      ],
      "metadata": {
        "colab": {
          "base_uri": "https://localhost:8080/"
        },
        "id": "s1jXOVuGFeiT",
        "outputId": "2d3f3c53-1a9f-41da-fafa-4bf68029ae87"
      },
      "execution_count": 33,
      "outputs": [
        {
          "output_type": "stream",
          "name": "stdout",
          "text": [
            "12345 \n",
            "1234 \n",
            "123 \n",
            "12 \n",
            "1 \n",
            " \n"
          ]
        }
      ]
    },
    {
      "cell_type": "markdown",
      "source": [
        "7. ![image.png](data:image/png;base64,iVBORw0KGgoAAAANSUhEUgAAAIAAAAB+CAIAAABjxI71AAADLUlEQVR4Ae2dUW7jMAwFc6Tc/3IuUBXCqwMHtEDqScn0o1C5Ep89E/Zjbew+Dr6sBB7WdMIPBJg/BAhAgJmAOZ4JQICZgDmeCUCAmYA5nglAwE0Cz9+vm4fW3b7fBCDA9mlq6PW77VLygjebgA+jfxy7/V0QAvJmb6jT8/ls5/piqM1Chzb7FbQQuaRLQUASyNE2CBgll3QOAUkgR9sgYJRc0jkEJIEcbYOAUXJJ5xCQBHK0DQJGySWdQ0ASyNE2CBgll3QOAUkgR9sgYJRc0jkEJIEcbYOAUXJJ5xCQBHK0zboC2sOv1/u6W3/tsFQFAWYdKwrQB7/6eb9bN6ONxa8o4DgOZa03creuZ9dcI8DsZV0BDczp7Yf+Y1+ctp3qZrqB+EUFBK78Q7YgwCwSAQgwEzDHMwEIMBMwxzMBCDATMMczAQgwEzDHMwEIMBMwxzMBCDATMMczAQgwEzDHMwFfL0AfuyuM6rpmGdf+CagGfdXfCF2jnQIaGv3erkwrii+rrvdvXzsFJL5+om6U6VVd93jXCPDyd/9rKf0tkr5oPPqPfZFbN1OXePMEyJV86RIBZvEIQICZgDmeCUCAmYA5nglAgJmAOZ4JQICZgDmeCUCAmYA5nglAgJmAOZ4JQICZgDl+3gTo01296dXqem0T1giYAPldxAwB+mRcP++r1d9xKvuzGQKMbz+oY2V4Vdc9c9YI+PsvOebgfk2ZJ6BlF73l0Nv2xSkuWH8FVF2ZJKD6NvbtjwCzOwQgwEzAHM8EIMBMwBzPBCDATMAczwQgwEzAHM8EIMBMwBzPBCDATMAczwQgwEzAHM8EfJwAfeyuN7d7Xe8lcZ0/AbuDvrr+ROjaKlNAu3T93pK0ore3S115pa8zBWz0+om6V6ZXdd2Tu0bAv9dSPkFA+4AEXwPp2/ridHyReu6nXrslT4C2Zh0hgIAIpcI9CCiEG2mNgAilwj0IKIQbaY2ACKXCPQgohBtpjYAIpcI9CCiEG2mNgAilwj0IKIQbaY2ACKXCPQgohBtpjYAIpcI9CCiEG2mNgAilwj0IKIQbaY2ACKXCPQgohBtpjYAIpcI9Pzj+kNbemVz7AAAAAElFTkSuQmCC)"
      ],
      "metadata": {
        "id": "77Lg6_LmGAXf"
      }
    },
    {
      "cell_type": "code",
      "source": [
        "n = 5\n",
        "\n",
        "for i in range(1, n + 1):\n",
        "\n",
        "    for j in range(n - i):    # leading spaces\n",
        "        print(\" \", end=\"\")\n",
        "\n",
        "    for k in range(2 * i - 1):\n",
        "        print(\"*\", end=\"\")\n",
        "\n",
        "    print()"
      ],
      "metadata": {
        "colab": {
          "base_uri": "https://localhost:8080/"
        },
        "id": "GGSInd6UUmrY",
        "outputId": "203d36c9-e9ef-4b54-aa85-ed9d36f230fd"
      },
      "execution_count": 50,
      "outputs": [
        {
          "output_type": "stream",
          "name": "stdout",
          "text": [
            "    *\n",
            "   ***\n",
            "  *****\n",
            " *******\n",
            "*********\n"
          ]
        }
      ]
    },
    {
      "cell_type": "markdown",
      "source": [
        "8. ![image.png](data:image/png;base64,iVBORw0KGgoAAAANSUhEUgAAAHMAAACECAIAAAAstoMQAAACpklEQVR4Ae3bUW6DMBBF0SyJ/W+OSrWUjrBcxTDX2OTmIyLT5GEf3p/V1+6LEXgxsabuylIlUFZZSoDKtbPKUgJUrp1VlhKgcu2sspQAlWtnlaUEqFw7qywlQOXa2Yllt99XvcDV5/WOuiYJnV1dsLX+Lsf6y5dky5rie7lBnMR1rzKvmU5MLsnu+x6x4u1Xn8e9nLtW9q8D5wRbv0qQLdHbtsV7vD++Lw5fm3we93Lu+qrsubt+w6+UpZ6ysspSAlSunVWWEqBy7ayylACVa2eVpQSoXDurLCVA5dpZZSkBKtfOKksJULl2dkHZcgxSL3y2eb3ClAnY2dkEW+tJcaxDENmyh/hebhwncZ93zWuOxAkiu9BpeSLlIUrZA0jaR1C2rPHxp9+tR0HJtu73PXNlqWetrLKUAJVrZ5WlBKhcO6ssJUDl2lllKQEq184qSwlQuXZWWUqAyrWzylICVO4NnY0nYHFb9Dzea8C1shTyUNlHntG2nsxQ2RvPdFv75+bKUrY3yJatDD7TpfzauaNl2yt52l+UpZ6osspSAlSunVWWEqBy7ayylACVa2eVpQSoXDurLCVA5dpZZSkBKtfOKksJULl29gtks07FKarO3Ik6q2zns/vg61mn5R/catxXZulsxI27753H3957rSzlP5Fs2eLF03LKqT93Ftn+lc/+C2WpJ6SsspQAlWtnlaUEqFw7qywlQOXaWWUpASrXzipLCVC5dlZZSoDKtbPKUgJU7gKdbZ08UiRJucomQVYxU8vG48Xlmju17D//AV1VZLqBstQjWUC2bP1wpkt55OXOLpu309FJylLiyipLCVC5dlZZSoDKtbPKUgJUrp1VlhKgcu2sspQAlWtnlaUEqFw7qywlQOXaWWUpASrXzipLCVC5P3rZf00NEt9kAAAAAElFTkSuQmCC)"
      ],
      "metadata": {
        "id": "vcWOefesVCUs"
      }
    },
    {
      "cell_type": "code",
      "source": [
        "n = 5\n",
        "for i in range(5, 0, -1):\n",
        "\n",
        "  for j in range(n-i):\n",
        "    print(\" \", end=\"\")\n",
        "\n",
        "  for k in range(2*i -1):\n",
        "    print(\"*\", end=\"\")\n",
        "\n",
        "  print()"
      ],
      "metadata": {
        "colab": {
          "base_uri": "https://localhost:8080/"
        },
        "id": "NUA7vkBVVDH_",
        "outputId": "285b20b5-efa8-476f-c2ad-5ad8a5a8bbba"
      },
      "execution_count": 52,
      "outputs": [
        {
          "output_type": "stream",
          "name": "stdout",
          "text": [
            "*********\n",
            " *******\n",
            "  *****\n",
            "   ***\n",
            "    *\n"
          ]
        }
      ]
    },
    {
      "cell_type": "markdown",
      "source": [
        "9. ![image.png](data:image/png;base64,iVBORw0KGgoAAAANSUhEUgAAAH0AAAD2CAIAAAB0lR9pAAAFWElEQVR4Ae3dUY7jKgBE0V5S9r+5tDSMULUTo0QGLiR3PiKCHco+rvd+jGZ+7v4hBH6IUDPvujMl0F13RoBJte+6MwJMqn3XnRFgUu277owAk2rfdWcEmFT7rjsjwKTad90ZASbVvuvOCDCp9l13RoBJ3a/vt39/GK1+qbr3s3xnpZ3cS9Pz8507Xevcndzv9/tnoN/vu+3j0J35z/Z2u5XgOmCu43LqZv+fuXy/qyygO/MkdNedEWBS7bvujACTat91ZwSYVPuuOyPApNp33RkBJtW+684IMKn2XXdGgEldt+/l1dKjyrvzjyusMKM78xRWdM+XqNnud+cZ0ddSV3Rv7BtI+rzBs/k8Z6mx7szjWNe9eBz2DdSvdXA47TDPoL6Quqj7C1e+9ym6M89Pd90ZASbVvuvOCDCp9l13RoBJte+6MwJMqn3XnRFgUu277owAk2rfdWcEmFT7/q3u+eY6DUbPZ9b8Md/30b5n68+3zkTSvYjkZ7mynEm1XvN5/9SYdO+4XyMfSVKezec5yFh3hJ3++zjqtos6KAz1ax30nWewIxXue1zJdw11Z5637rozAkyqfdedEWBS7bvujACTat91ZwSYVPuuOyPApNp33RkBJtW+684IMKnz+p5vSvNeV5vPaxs31n2cbWvlGe75cjnbvdp8y6n3sRnu4L6BfLRJdzaf5wwd6/7/H1AYqvy4+Dz3kj1of0Bdtg4OcS/OPwINmpnkPujq911Wd+bZ6a47I8Ck2nfdGQEm1b7rzggwqfZdd0aASbXvujMCTKp9150RYFLtu+6MAJNq3z/FPd9c5z3tPp/3cn3cv++7+55d/3XrXKGne7ni/CxJOZN3tct8evUa93TfaL9GPvKkPJvPc7qMdf+zj2Nj91KHF/dN1NPq4PDzRea7dDwX6dz3XNpxQ0D3Bs7AQ7oPxG0srXsDZ+Ah3QfiNpbWvYEz8JDuA3EbS+vewBl4SPeBuI2ldW/gDDyk+0DcxtK6N3AGHtJ9IG5jad0bOAMP6T4Qt7G07g2cgYf6u5dXNo+XvPv84x1dmdH9qHfWj+N51773dM+Xk3n1u89fE37+657u7id4bvxsVnf3E0Qv6jaCOigH69c6mDMfl9Zn2LnvfS7qC1bRnXnIuuvOCDCp9l13RoBJte+6MwJMqn3XnRFgUu277owAk2rfdWcEmFT7rjsjwKTa9093zzfdea+rzee1jRvP6/tqvmfXM846V57hXu4wP8sV5EwqUPPpMno8w32j/R2juev6uv/Zx1FdRg/muZc7mbz/osbVweEyDvOjuev6k9xrnoMioDvTBN11ZwSYVPuuOyPApNp33RkBJtW+684IMKn2XXdGgEm177ozAkyqfdedEWBS7fu3uucb7TQYPZ9Z88d830f7nq0/3zoTSfcikp/lynIm1XrN5/1TY9Id3N9Bcddc3SvF1AHvXm73sJ+ifq2Dw2kX56caPwuD3Z9d0lfM6c48Zt11ZwSYVPuuOyPApNp33RkBJtW+684IMKn2XXdGgEm177ozAkyqfdedEWBS1+17vllNm3fn87frjHVnnsWK7p+0b+Dsqa7o3nGfwdlt4/O6M49gXffisfu+gbOnuqj72eV+zLzuzKPUXXdGgEm177ozAkyqfdedEWBS7bvujACTat91ZwSYVPuuOyPApNp33RkBJtW+6/6awNk+jtd+vcpZ+/Vd99ndOdvfMfs6euRt1vek73H72Bq6M/T7uRenw/4OBu9C6mbuF+50rZ/qzjwP3XVnBJhU+647I8Ck2nfdGQEm1b7rzggwqfZdd0aASbXvujMCTKp9150RYFJ/AYpQjFK3aTpmAAAAAElFTkSuQmCC)"
      ],
      "metadata": {
        "id": "xTQZmKcTW21U"
      }
    },
    {
      "cell_type": "code",
      "source": [
        "n = 5\n",
        "\n",
        "for i in range(n):\n",
        "  for j in range(n-i):\n",
        "    print(\" \", end=\"\")\n",
        "  for k in range(2*i-1):\n",
        "    print(\"*\", end=\"\")\n",
        "  print()\n",
        "\n",
        "for i in range(n, 0, -1):\n",
        "  for j in range(n-i):\n",
        "    print(\" \", end=\"\")\n",
        "  for k in range(2*i-1):\n",
        "    print(\"*\", end=\"\")\n",
        "  print()"
      ],
      "metadata": {
        "colab": {
          "base_uri": "https://localhost:8080/"
        },
        "id": "9cK1LjnVWw67",
        "outputId": "74e520b4-2f3b-4c25-f7c5-3cc681476b88"
      },
      "execution_count": 54,
      "outputs": [
        {
          "output_type": "stream",
          "name": "stdout",
          "text": [
            "     \n",
            "    *\n",
            "   ***\n",
            "  *****\n",
            " *******\n",
            "*********\n",
            " *******\n",
            "  *****\n",
            "   ***\n",
            "    *\n"
          ]
        }
      ]
    },
    {
      "cell_type": "markdown",
      "source": [
        "10. ![image.png](data:image/png;base64,iVBORw0KGgoAAAANSUhEUgAAAFYAAADeCAIAAAAo12AVAAAEEUlEQVR4Ae2cUY7DIAxEe6Te/3JZgStrVMTaqSgh9PUDOVYIeBgPYGn3cfz87/HzCBxAAAQHEADBAQRAUPZDdgQggAUkAlpQbwcpOXzW3663CSCIdgRbf23340LMgr3jT+0IQHA8n08jvxub5UKcCJsF3IYDBNGO0GK2nwcWwAJuiqlzwX7J/xYRWoAWoAVoQZEFtAAIYAGJgBbUQ1JKDq1w9HaoOo5STdmgjgIE0Y5g66ytcUE9ZrccuYsnZoFGq1H1/PrOLWwgiBLBNM8W8035/NGNW6x5O8mYBW2fzTxAkEiEzda8DQcWwAJuitwUizKgBUAAC0gEtKCek5BD5BA5RA6Rw7wc9gqkZ/11xOWa1I5wNtTe+8tFn2GBBaOthaEeDbjnXzN4m1XMAo1KIznr175L2UCQOBp5jdwNW0N/dON//1Irr5OJWaBvb2kDQSIRtlx5DQoWwAJuitwUiyagBUAAC0gEtKCekJBD5BA5RA6Rw7wcaoG09no1o/z6zfl2akcYFWrvO/PD1hEDCGzS2lpn9WhgZ/06lavsAAL/uwuNs0VBZ68oZPz6ziU2ECSORl4jd8PWyh/d+Mx/ycrroDEL9O0tbSBIJMKWK69BwQJYwE2Rm2LRBLQACGABiYAW1BMScogcIofIYVoO26pZ1ZHu/zIZ9b6N8u02JYejQjr7nW8Hb98PILBJa2vd1KOBjfLPCT4FwYQKsqI2M3IfK2ABEBSkvEDshuHnj26M9fsqfduIWfDtGVz+fSDggMwBmQNyESK0AAhgAYmAFtRjGXKIHCKHyCFyiBxWBJDDpBxqgdSQs3aUX785306dC0aF2vvO/LB1xAACm7S21lk9GthZv07lKjuAYEIF+arIfVwgSOwIXiN3w/DzRzc+8/tqXGXELLhqZtPGBYJEIkxbjasGggWwIHlAvoqic8YlEUgEEoHCWVEbtAAIYAGJgBbUsxdymJNDrQ7qofWsX/uuY6dYcDbU3vvrhK0zCSCwYLS1zurRgHt+HXI1O4BgYAV5tch9PkCQkEMvELth+PmjG//7HfXVjJgFq814+HyAIJEIw1Ff7YOwABZwWeayXHQJLQACWEAioAX1lIYcIofIIXKIHOblUAuktder6fn1nfXt1I7QC7XnXz9snWEAgQWprXVWz92BCCD4oIiuAN/CBoLE0chr5G54LrwZt1jzdpIxC9o+m3mAIJEIm615Gw4sgAXcFLkpFmVAC4AAFpAIaEE9JyGHyCFyiBwih3k5vHuBtEbabVI7wk9DsFOxvEeDmAWKQu8rt/YDQeJo5LVzN2695u3kYxa0fTbzAEEiETZb8zYcWAALuClyUyzKgBYAASwgEdCCek5CDpFD5BA5RA6Rw4oAcogcIofIYRWDPy75LCdxH6v3AAAAAElFTkSuQmCC)"
      ],
      "metadata": {
        "id": "nBW7Lhs0YKiY"
      }
    },
    {
      "cell_type": "code",
      "source": [
        "for i in range(5):\n",
        "  for j in range(i+1):\n",
        "    print(\"*\", end=\"\")\n",
        "  print()\n",
        "\n",
        "for i in range(4, 0, -1):\n",
        "  for j in range(i):\n",
        "    print(\"*\", end=\"\")\n",
        "  print()"
      ],
      "metadata": {
        "colab": {
          "base_uri": "https://localhost:8080/"
        },
        "id": "ZvkJs2KmYFDg",
        "outputId": "0f2b5210-4744-4dce-dc21-93d425d2947b"
      },
      "execution_count": 57,
      "outputs": [
        {
          "output_type": "stream",
          "name": "stdout",
          "text": [
            "*\n",
            "**\n",
            "***\n",
            "****\n",
            "*****\n",
            "****\n",
            "***\n",
            "**\n",
            "*\n"
          ]
        }
      ]
    },
    {
      "cell_type": "markdown",
      "source": [
        "11. ![image.png](data:image/png;base64,iVBORw0KGgoAAAANSUhEUgAAAIIAAACACAIAAABIqSahAAADV0lEQVR4Ae2cS47cMAwF50i5/+UcIN48oe0RRdDic7pmEcge8eOqISBokZ+DHwMCPwY90MKBBos/AjSgwYKARRNMAxosCFg0wTSgwYKARRNMAxosCFg0wTS8UMOffz8Wjf9fTUSn4RSAhofsRzWc5dGAhocIWKRlGtBgQcCiCaYBDRYELJqIToMeWDkvlauLaigvTEIlgAal0bZGQxt6LYwGpdG2RkMbei2MBqXRtkZDG3otjAal0bZGQxt6LYwGpdG2RkMbei2MBqXRtkZDG3otjAal0bZe0KB33cF+uRIPgopqUKC6viuTcHaX6hveP6XhZBcR9g2Up9+IhimiHRvQsIPytAYapoh2bEDDDsrTGmiYItqxIarhOI6lM6hu5rw0NbmgYZqLDWkCaEijqwxEQyXNdC40pNFVBqKhkmY6FxrS6CoD0VBJM50LDWl0lYFoqKSZzoWGNLrKQDRU0kznQkMaXWUgGipppnOhIY2uMnBNw9KVtd51B1teyh/M+YptUQ2rTBWoru+grOa/y/PS91EN5+dFgH7uzEW9FGiubTTkuBVHoaEYaC4dGnLciqPQUAw0lw4NOW7FUVENeqAMnnw0ZNq1bg7mn+Z80Yaohhd90htbRYOFNTSgwYKARRNMAxosCFg0wTSgwYKARRNMAxosCFg0wTSgwYKARRNMw9s06CVosPelu9Kn8wd7btkWnQYFquu7pleZak5dV+W/y2Py/ikN5+dFgH7uzEWZAM21gYYct+IoNBQDzaVDQ45bcRQaioHm0qEhx604Kqphw39dch6Qgsck3RwMKSZXmm5BQ2ldkg0E0DDg6HpAQxf5oS4aBhxdD2joIj/URcOAo+sBDV3kh7poGHB0PaChi/xQFw0Djq4HNHSRH+qiYcDR9YCGLvJDXTQMOLoe1jQsXSnrXXTw86zyB3su2RbVsMpUger6rmm3/Hd9PvQ+quEsHwH6uTMX9fsHa05dx6N+37n5t2jYDPy6HBquuWx+i4bNwK/LoeGay+a3aNgM/LpcVMN5GtF/r/PJ2/Tm4Mnn6fzyKY8voxoeb+S7C6DBwj8a0GBBwKIJpgENFgQsmmAa0GBBwKIJpgENFgQsmmAa0GBBwKIJpgENFgQsmmAa0GBBwKKJv8TUMDO8wTn9AAAAAElFTkSuQmCC)"
      ],
      "metadata": {
        "id": "DabaLsj2ampv"
      }
    },
    {
      "cell_type": "code",
      "source": [
        "n = 5  # good ques\n",
        "\n",
        "for i in range(1, n + 1):\n",
        "    start = i % 2  # Start with 1 for odd rows, 0 for even rows\n",
        "\n",
        "    for j in range(i):\n",
        "        print(start, end=\" \")\n",
        "\n",
        "        start = 1 - start\n",
        "\n",
        "    print()"
      ],
      "metadata": {
        "colab": {
          "base_uri": "https://localhost:8080/"
        },
        "id": "yWoHyUTylmBj",
        "outputId": "1dfc731d-d20c-4972-bdbb-ae6a5bdf8380"
      },
      "execution_count": 1,
      "outputs": [
        {
          "output_type": "stream",
          "name": "stdout",
          "text": [
            "1 \n",
            "0 1 \n",
            "1 0 1 \n",
            "0 1 0 1 \n",
            "1 0 1 0 1 \n"
          ]
        }
      ]
    },
    {
      "cell_type": "markdown",
      "source": [
        "12. ![image.png](data:image/png;base64,iVBORw0KGgoAAAANSUhEUgAAAGAAAABqCAIAAADMYcMJAAADlElEQVR4Ae2Z4WoDQQiE+0h5/5e7QgUZ3NXx9gykYfojeI6rs18MpenPpZ+SwE+pSrwEiCyBAAkQIUBkbZAAEQJE1gYJECFAZG2QABECRNYGCRAhQGRt0Cig198PafkB8qDP7gbZyMHBb8I47rMLyO7z+YDGfQoQWWUBEiBCgMjaIAEiBIjc3SD89fnJv8vGfXYBEc7fKwsQeW8FSIAIASJrgwSIECCyNkiACAEia4MEiBAgsjZIgAgBImuDBIgQIPK9Ddp+0YHfMJBpo3Ixd+vzbHgXUOYGrWB85qZ/CmetMWb6PbeVXUB2eB2MGYy3wwaTOAvjzOfx6KeAcPBqFNX3xevcNXM8fQzQoKdbl9nO3SZvtfXiGUCDhtxZJ8jmZvlOz1AzAGjQTTBXPxZzC6nuuapPAQ1aWc0VmXpurRZtV6kLyEbiq/XCzKCt1WjIZHOzfDjef+wC6nf8skoBIm+oAAkQIUBkbZAAEQJE1gYJECFAZG2QABECRNYGCRAhQGRt0Cig7d/r+Ac0TsvyWNOJsz5Z/roukzrNaU13gzI3aCXEPhvznmwGr9fLK7FPHaPqx8+CLiDrvg7GDMboJstjTSfGPlmc+ez039Y8BYRN0XQnjzWduN8/q+xMCTVjgLaeLIkfkzC++Vj0KeY2m9dlM4C2Ln1wrXoZDdY+a8aaZHk6Yi0YAETd0ILV1jYT+oRHPFJIWNaJnwLKrODHKqvp+Mv61D1rtTPXa7qAbCS+WgvMBFso+byDYNsHkzg3yx/MtSNdQMcD/vtBASLvoAAJECFAZG2QABECRNYGCRAhQGRtkAARAkTWBgkQIUBkbZAAEQJEvrdB+MWCN8ZvGDzp/3upj2A9HsH8cX9schx3AdUubTyyyL7owkqsyfJYE/q7tOYxc4zGDnYB4QVwJFrBOKvBNfEbYvOsiR/E4jXOMpY/eH0KCEdmdwt54xKSdv9AAZsX0rZVoB9a9R/HAK0u/Uro1cs8MK/+6AHewZLYx9Wi3mueBDOAti7dFqp+SUz6+jhTP4tBOFIUr5XY51Y8AIi68QILwqvfc82Hm3gfy4dHLC4kLOvETwFlVnxT/P7BTXEwnPWDeARjL/CgVr2sE3QB2Uh8te6YCbZQQiuYDyxQ8iM0aQXUjze8FXQB3Wr6TcUCRN5NARIgQoDI2iABIgSIrA0SIEKAyNogASIEiKwNEiBCgMjaIAEiBIisDSKAfgEPIc6QIRe+ewAAAABJRU5ErkJggg==)"
      ],
      "metadata": {
        "id": "zRMdG_abl-GN"
      }
    },
    {
      "cell_type": "code",
      "source": [
        "n = 4\n",
        "\n",
        "for i in range(1, n + 1):\n",
        "\n",
        "    for j in range(1, i + 1):\n",
        "        print(j, end=\"\")\n",
        "\n",
        "    print(\" \" * (2 * (n - i)), end=\"\")\n",
        "\n",
        "    for j in range(i, 0, -1):\n",
        "        print(j, end=\"\")\n",
        "\n",
        "    print()"
      ],
      "metadata": {
        "colab": {
          "base_uri": "https://localhost:8080/"
        },
        "id": "IY6TYBeUuPz4",
        "outputId": "ffa6397a-9ee4-4e72-d05f-c0edc9f30e38"
      },
      "execution_count": 20,
      "outputs": [
        {
          "output_type": "stream",
          "name": "stdout",
          "text": [
            "1      1\n",
            "12    21\n",
            "123  321\n",
            "12344321\n"
          ]
        }
      ]
    },
    {
      "cell_type": "markdown",
      "source": [
        "13. ![image.png](data:image/png;base64,iVBORw0KGgoAAAANSUhEUgAAAIgAAAB+CAIAAABwE84BAAAE00lEQVR4Ae2Za24jMQyDe6Te/3JZYAUIhD22JDdVORPuj0CxqYf5xdNF8vXSP0oHviin0lAvgSH9EAiMwJA6QDqWbozAkDpAOpZujMCQOkA6lm6MwJA6QDqWbozAkDpAOlb2xnz//0d6iCeOFYMxJALTTD8GYwMJjMA0O0DaTjdGYEgdIB1LN0ZgSB0gHSu+MfjfZf3frA1jDKZtFDVCBwQG3SCKBYYIBo4iMOgGUSwwRDBwFIFBN4higSGCgaMIDLpBFAsMEQwcRWDQDaJYYIhg4CgCg24QxQJDBANHERh0gyhOgcFv/jOzV/WZmp+micHgbzAYr5z6/v72rYzexQrQgfeDweoCg26U4hgMlqsaXdVjrw+PC2BKLpsYH2sfbnT1+FkwJSo+xFmWp39ykAJz7O9x4icjsbPHYKrm4uOrmise7kAWjFmcNLok9lEUoAMxGFQrbnNAYNqsrjUSmJpfbWqBabO61khgan61qQWmzepaI4Gp+dWmFpg2q2uNBKbmV5taYNqsrjUSmJpfbWqBabO61khgan61qQWmzepaoywY/yY/U97FyZ8JXq8XpmRaPF7zi2Dy3uX55WveXZkCU/04l4wuie9ud37+LBh/2mRKl0A6GA8yLR6vicG4Xx6EpvjP/pkU01hKRh92f4YgBcaOeuBaJgU1GD/D3+NTBGDMqeE13yxjNGowznd5pDIAg2dOuubPseSfJSyLMbb+wDgFxvzy19AmVyKkTVZVvyn1mK0UmMec9kYHERhSWAIjMKQOkI6lGyMwpA6QjqUbIzCkDpCOpRsjMKQOkI6lGyMwpA6QjqUbc1sw+NWvxeFRMCUU+68DyeJW8FJc7ZuZ7a808Y3Br+4v7RhGRw3Gg8zfogZjFwyBaWYlrmA8pN/lbQzGT+KO+MplgKZgfCn262K7Gf1KibkYr/qSr5fBhOdBUzBeJaIG45Xe1mclrmC8r0O7+34wfgmS7rjMAnxyblzzLNfgCsYuuFfwfjBoCsYbX1zmwUZsW7MSVzAOS3EKsmDsqJmPM5qCceb8ef2sxBWMM30JNTUwmQOgKRiHuT8UYzrGYV9OwfvBnP2NyVtpSnx1Zy8XffdeQRbMvU71gGkFhhSiwAgMqQOkY+nGCAypA6Rj6cYIDKkDpGPpxggMqQOkY+nGCAypA6Rj6cYIDKkDpGNlb8zqa/nV+uq4l/qDr+t/tQ7+crE6yLAezpP5jRFrxmBWrq3WsTrGKz0eCWPMxXhTx2U/qWNFvIvXXAWunK3PjLEqG4PBQecq1d6zHlcwnnvhyl653w3rWHq+iN8wrLxaHDSrt38PBifLe7FX7nfDjvbZzxdZMbAKpTo+GxGY0gFWYvfCT7gP5jq+4sG+gu1eiv3hdrm7L8sCpjr6Xr/fRUdm5Zmbc519F9y9jCnA7E91Ofc+Zb+LBQelvR1eUb+KhzqDbL87iO3t34M5GPryme6f9Mvdy8PvlaXBZvHZPD5nDMZa4qsl48o8ljfwYKVfrXviEGz0uDVkzW9RbLFrhi1fvwwG8cxjKH5ZZF6Mwcw5WmlwQGAaTD5pITAnrjXkCEyDySctBObEtYYcgWkw+aSFwJy41pAjMA0mn7QQmBPXGnIEpsHkkxYCc+JaQ47ANJh80kJgTlxryPkHCzyMVJUtkFgAAAAASUVORK5CYII=)"
      ],
      "metadata": {
        "id": "fTWscc-4utCc"
      }
    },
    {
      "cell_type": "code",
      "source": [
        "n = 5\n",
        "num = 1\n",
        "for i in range(1, n+1):\n",
        "  for j in range(i):\n",
        "    print(num, end=\" \")\n",
        "    num = num+1\n",
        "  print()"
      ],
      "metadata": {
        "colab": {
          "base_uri": "https://localhost:8080/"
        },
        "id": "KtC-m3ZsuvR4",
        "outputId": "aa968986-2348-4d83-a346-e34ec61386cd"
      },
      "execution_count": 30,
      "outputs": [
        {
          "output_type": "stream",
          "name": "stdout",
          "text": [
            "1 \n",
            "2 3 \n",
            "4 5 6 \n",
            "7 8 9 10 \n",
            "11 12 13 14 15 \n"
          ]
        }
      ]
    },
    {
      "cell_type": "markdown",
      "source": [
        "14. ![image.png](data:image/png;base64,iVBORw0KGgoAAAANSUhEUgAAAGQAAAB+CAIAAABdzSP+AAADiElEQVR4Ae2bXW7cMBCDc6S9/+XchwEYlpYxIna3kFTmIaBG9A+/pVPATX6ufE0T+Jl2xngFllGCwAosg4BhTbMCyyBgWNOswDIIGNY0K7AMAoa1b9br7y/j3MdZe1gVGcSOI2AEmoJVpK7rgjCucJA1sIwPM7A+Cgs/rVgYVzjI2jdLfk7J8iAUfZQGlrRJlv3pz3I0sM4K+26awDIIBlZgGQQMa5oVWAYBw5pmBZZBwLCmWYFlEDCsaVZgGQQMa5oVWAYBw5pmfRQWv8N6vV51bhliblx5Q+tss0AHGWvC7LB1qpiCBS4Q8t9iPD+V1HXN/ZokWEAAVk3yGP5WBIwgAKtMPP897DjVP4boDovAGjdBWoMlhIAbn+WIadOsYZt4CH0EjSZEA6s5+j/bDizjAw+swDIIGNY0K7AMAoY1zQosg4BhTbMCyyBgWNOswDIIGNY0K7AMAoa1bxZewpSoc8vw/lqZDcbtrG3tYQkdxLmze9rCfHcxBQtcIOTt6NO8bLszwv2/C6sw8WPI4HCZM8S7sIoCA2J9BiOk6GGhOyzmH0Nc6QAxCwtRURwIASdLfkJxkk1FA2vYJh5CS/6nudj2Wjaw9grz7bsNLINwYAWWQcCwplmBZRAwrGlWYBkEDGuaFVgGAcOaZgWWQcCwplmBZRAwrGnWR2HhzVSJOrcM72/42IDXgRgaN7iSdbZZ95w1YXbIJVvi4V0csoWYgoV4ECiLgJB5LVvPFqS+8odODJQp8Jw1exbXX28W8jMg1jCsL3pYFUy+y+PG4Vlzfp6zZs/iehYWYiAnhICTJf6hhB8C59xFNLAqGOLxUrQExm7NsSwh5l2WDaxdYvyb+wwsg3NgBZZBwLCmWYFlEDCsaVZgGQQMa5oVWAYBw5pmBZZBwLCmWYFlEDCsfbOGb1dkiJdWuDIb8IYLw6HtvgvbIqKHVTd6T1IT3kUk2RIP74IjHwu9mpiChXgQEvJpXjaB9XRs1fNe0nWQvQurMHFCBsc5eX7XPOGjltLvwqowHJU1R+X5UDNxPnAd3cOqYPL96VGSOeccArr7V0Y2CwuxkRliGBiZWZTmA4fH4lqriQZWBUM8XoqWYNitOZYlYJa57MK2iGhgLXKXi9xGYBkfRGAFlkHAsKZZgWUQMKxpVmAZBAxrmhVYBgHDmmYFlkHAsKZZgWUQMKxpVmAZBAxrmmXA+gN/Kk7MrhlUJAAAAABJRU5ErkJggg==)"
      ],
      "metadata": {
        "id": "fr324cJbwOFL"
      }
    },
    {
      "cell_type": "code",
      "source": [
        "n = 5\n",
        "for i in range(1, n+1):\n",
        "  for j in range(i):\n",
        "    print(chr(65 + j), end=\"\")\n",
        "  print()"
      ],
      "metadata": {
        "colab": {
          "base_uri": "https://localhost:8080/"
        },
        "id": "pIAance5vba5",
        "outputId": "5e6be56f-bc63-491e-9c6b-53106cf870db"
      },
      "execution_count": 31,
      "outputs": [
        {
          "output_type": "stream",
          "name": "stdout",
          "text": [
            "A\n",
            "AB\n",
            "ABC\n",
            "ABCD\n",
            "ABCDE\n"
          ]
        }
      ]
    },
    {
      "cell_type": "markdown",
      "source": [
        "15. ![image.png](data:image/png;base64,iVBORw0KGgoAAAANSUhEUgAAAGMAAAB7CAIAAADv3Kk0AAADbElEQVR4Ae2ZUW7kMAxDe6S9/+WyWAggWMVOHma2qONhPwpKYZzoDRO0nq8jP4zAF7PFdYQUDUFIhRQlQH3JVEhRAtSXTIUUJUB9yVRIUQLUl0y9TerP959a73vvX9Wu44bjOLx0c+tX2ZZarbzJlEbSfftUrsWlnOIij4QM8tS5usSa4oqUZpM449C07vHJvT/UtYLWWRPTcVz+h6zBJESqOj6ee3xa75+1d/ysBfVPZUqjOouhdtw6a0ExJVVTtd/KVE0ynLwNOfN435/Wdvo65Q0p3agGk2jUWqmkyC9Ra55LXWtNMSZVY2gYL5tuU+mo42hNMVW/RFtqtXJMarW7XOF+Qop+CiEVUpQA9SVTIUUJUF8yFVKUAPUlUyFFCVBfMhVSlAD1JVMhRQlQ3zRTwy2R1tQmlK7mhvPuimxPFFNSNYwm12zV8aOzQ83jJ+qUB4krUppNQjFpFFq/ylvPgzD95nczz8L0Oimel1ke9yFVE7bf7SkjFIjnEdSm7ymf0AF537V7hu+pZn4EHb/JMamaSrN52bSvJVj66+Ha3M5dvByTWvymf+X2QopiD6mQogSoL5kKKUqA+pKpkKIEqC+ZCilKgPqSqZCiBKgvmQopSoD6kqm3SQ23llpT+1C6mhvU3EPcZEqTa9rqVOla23g6pFP2EFekBELijEOxco/vDu+B6fXvZoqLMDWC29DxQX4qU36NPfSUlFLjomXHnzjXe6BpU9yQklsgJBq1VvqDqUUeLcakCoegeNl0G15HW3+Dckxqg8H++wghRZGGVEhRAtSXTIUUJUB9yVRIUQLUl0yFFCVAfclUSFEC1JdMhRQlQH3J1NuktNNUotZrzf226y6w3WRKaLTEGZwO7S2uSAmKxHkL+HNi9SKpc9b2DtTr3/cVF8/a55JSalzk6RsEouVFpUSjNlhir9b4PTXMkTel96JxNc2Y1NUZn3ospOgnH1IhRQlQXzIVUpQA9SVTIUUJUF8yFVKUAPUlUyFFCVBfMhVSlAD1TTOlfZUSdL19fVNSNbJ47UuATnZFSmmSoKvu6Asp+qmG1Nuk9IZyQVfd0TfNVHs3tXJHFDczjUm1HLXyZslND49JbTrsW2OFFMUXUiFFCVBfMhVSlAD1JVMhRQlQXzIVUpQA9SVTIUUJUF8yRUn9BamEXnaIq5tHAAAAAElFTkSuQmCC)"
      ],
      "metadata": {
        "id": "iEtLiQt1yroS"
      }
    },
    {
      "cell_type": "code",
      "source": [
        "for i in range(5, 0, -1):\n",
        "  for j in range(i):\n",
        "    print(chr(65+j), end=\"\")\n",
        "  print()"
      ],
      "metadata": {
        "colab": {
          "base_uri": "https://localhost:8080/"
        },
        "id": "3tcStfB4yqqN",
        "outputId": "9bb3014b-94de-42dd-d247-237412fc86be"
      },
      "execution_count": 33,
      "outputs": [
        {
          "output_type": "stream",
          "name": "stdout",
          "text": [
            "ABCDE\n",
            "ABCD\n",
            "ABC\n",
            "AB\n",
            "A\n"
          ]
        }
      ]
    },
    {
      "cell_type": "markdown",
      "source": [
        "16. ![image.png](data:image/png;base64,iVBORw0KGgoAAAANSUhEUgAAAG8AAAB3CAIAAACCIonBAAADCklEQVR4Ae3bYW7iMABE4R6J+18u1crSyJhC7fC8we7rD+SYMNhfBiplt1+HP5zAFxdl0qEmWQI11SQFyCy7qSYpQGbZTTVJATLLbqpJCpBZA9283f+Qq9gla0CzbDmkuwiQ+xjTLJTHcWRArmX9LDXJa6jmRZr5xqwH5FrWzxroZvNd2RyuTwHsoFez6WNzCCxki4hezS02O30TapLEaqpJCpBZdlNNUoDMsptqkgJklt1UkxQgs+ymmqQAmWU31SQFyCy7eYVmfUOzvk/8bJ5c4zpZA918RCzbfDa/DgK2UjUxyuMY+Z/azYc6q3g2nxP+zsBuktdaTTVJATKrt5vNl+PtdiureDZPrnGdrF7NdXZ05UrVJPXVVJMUILPsppqkAJllN9UkBcgsu6kmKUBm2U01SQEyy26qSQqQWXbzUs36hma9kNH5+rXbjMe6WcjK5nPDuPkj1p75bfiajQxo1pRFMKyN4Ov5ZgU7HZ7XjEKj/Ot8TthvoCZ5TdW8SPPEb5v6S6D+biV38ElZA90syy5AjzSj85+EgK1lWBN75x2D1CSvqppqkgJklt1UkxQgs+ymmqQAmWU31SQFyCy7qSYpQGbZTTVJATKrt5u54VbfsswdzzybpWWm8/y8cOlBr2bg6kHZebwyODe/tGNZ/BnNBrRGfGes5j+BdwTr16qp5l0H/KTfcbx5cEaz+XjmMIOyphxm8Hr+zZ18wst7NYtIHrP0zPxIlmd/PT8nLD3o1Vx6k/9t8WqS1GqqSQqQWXZTTVKAzLKbapICZJbdVJMUILPsppqkAJllN9UkBcgsu3mFZu5U1oP8o1A9Wf5co5kphyfOJ/c6P2ugmxEpq8ofucyen4+AvcMZzbQvrPXMo3L9bOpZBnl8MY/tdX7QsGbTxCjMm5+PgL3DsGbdprKKOKaV7Dy21/lBZzSDlUHtmHGUc1oGOae+Ns/OL69a4lFN8jL1apbiNI/Nl2aeBefJvc7P6tWcv5Id3kFN8iqqqSYpQGbZTTVJATLLbqpJCpBZdpPU/AaBLqBwlLKgSgAAAABJRU5ErkJggg==)"
      ],
      "metadata": {
        "id": "pPIsz__6y_Uq"
      }
    },
    {
      "cell_type": "code",
      "source": [
        "n = 6\n",
        "for i in range(1, n):\n",
        "  for j in range(i):\n",
        "    print(chr(65+i-1), end=\"\")\n",
        "  print()"
      ],
      "metadata": {
        "colab": {
          "base_uri": "https://localhost:8080/"
        },
        "id": "ls_iZ7E5y7Jo",
        "outputId": "15741fd8-a965-447e-f54d-a1a29c4ca465"
      },
      "execution_count": 42,
      "outputs": [
        {
          "output_type": "stream",
          "name": "stdout",
          "text": [
            "A\n",
            "BB\n",
            "CCC\n",
            "DDDD\n",
            "EEEEE\n"
          ]
        }
      ]
    },
    {
      "cell_type": "markdown",
      "source": [
        "17. ![image.png](data:image/png;base64,iVBORw0KGgoAAAANSUhEUgAAAGUAAABoCAIAAABngKlGAAADQUlEQVR4Ae2dQW7kMBAD86T5/+e8WDRQYFrjWRORLG/AHAJKoqTuGnoOziFfR34cAl+OOd4jvLwQhFd4eQQ8d/IVXh4Bz518hZdHwHMnX+HlEfDcydfjeb2+/3j17nZvyxfQdhPw7t/Dq2Adx4Hwqt7nDi+PfXg9nhffXCq8qve5N+SrfWe14T4Ul26+m1fLVBteKnmr6W5eW5udcHl4eRDDK7w8Ap47+Qovj4DnTr7CyyPguZOv8PIIeO7kK7w8Ap47+Qovj4DnTr4ew0vfbb1er6qrTTLP3z4weH3c5V6er7H/mlF82uzo19Xtei0v0CDI0Vte2BDbAbUCtvEqIvo8Ksrw+ktgzFTjwhDRPt7tw4X5qp7bbw3RWz36tzPSApbz4jIig3jLa/Qz8wSxipfGBC46iS4KDOuxbcMnkKoaVvF6TodzKwkvj2d4hZdHwHMnX+HlEfDcyVd4eQQ8d/IVXh4Bz518hZdHwHMnX+HlEfDcE/Kl717aS1RdanW1JR2Wxt+WmN8iJvCquumKNrRt1bwOYyOi4eYotmDQpTv1HF7gQNDhP1mA4GyvHqWeOzFx13Je1SFQtHmKUKajX7f8fl7KYtSKTFmo/m28SIQKbfKDvsJLj0Xrxjv1hOexeqBohojGqw15VM/8Ot/2cult4qe8qhla0mHTrSVWa54hYpwHVnnagfcMf8rrniqfc0t4eZ9FeIWXR8BzJ1/h5RHw3MlXeHkEPHfyFV4eAc+dfIWXR8BzJ1/h5RHw3MnXMl68mdLXT22Sl39UoYb2Ams0N0Mb6r3jEjcuFXa+6J+ytA3VtFRO6OBBnB3FxnFv24KB+UXC40WHiBEKpaunbJ/7d/16ddu7CNZxmP8vgLIQFF0zwGJ+LH3cO3LUXZysG9uWcUlPmKjvyxdFa29nGnPjrn5davO6fa42eFVN7bcW/UFr0drbmb7uH+vRvdO1zYsKaBXReLUhjyp+xHhm7a15tZ3pdhcHThdXeVWhlKvDpluJrGrzbVK3tCWGiPEcYJVHT5uur/KafvF/emB4eR9ceIWXR8BzJ1/h5RHw3MlXeHkEPHfyFV4eAc+dfIWXR8BzJ1/h5RHw3MlXeHkEPPcfY85hdTW0DjYAAAAASUVORK5CYII=)"
      ],
      "metadata": {
        "id": "gAugaINUz6gL"
      }
    },
    {
      "cell_type": "code",
      "source": [
        "n = 5\n",
        "\n",
        "for i in range(1, n):\n",
        "  for j in range(n-i):\n",
        "    print(\" \", end=\"\")\n",
        "  for k in range(i):\n",
        "    print(chr(65+k), end=\"\")\n",
        "  for l in range(i-1, 0, -1):\n",
        "    print(chr(65+l-1), end=\"\")\n",
        "  print()"
      ],
      "metadata": {
        "colab": {
          "base_uri": "https://localhost:8080/"
        },
        "id": "AmVZ-nbszNdT",
        "outputId": "bc4ae5de-ba90-4bb3-f9c4-c6e8ac191cf6"
      },
      "execution_count": 62,
      "outputs": [
        {
          "output_type": "stream",
          "name": "stdout",
          "text": [
            "    A\n",
            "   ABA\n",
            "  ABCBA\n",
            " ABCDCBA\n"
          ]
        }
      ]
    },
    {
      "cell_type": "markdown",
      "source": [
        "18. ![image.png](data:image/png;base64,iVBORw0KGgoAAAANSUhEUgAAAIEAAACHCAIAAAC+m60aAAAEjklEQVR4Ae2aW27rMAxEu6Tsf3MpCrbEVNaDVGSNDU8/cml5SFFzwtwi7tdbP2wHvtgNaP+3GPDfBGIgBnwH+B1oDsSA7wC/A82BGPAd4HegORADvgP8DjQHYsB3gN+B5kAM+A7wO9AciAHfAX4HmgMx4DvA70BzcDcGr9oP/xA37yA9B0bBT/16vTxWMOfAPANzXwzmfMesSQbFNGBFxVkHJhm8329NQNbrln6egVUUiZaz8XUxiHt1ljLHoParqX4v+pRNjsGnuym/5oAY1FzZuyYGe/2u7SYGNVf2ronBXr9ru4lBzZW9a2Kw1+/abmJQc2Xvmhjs9bu2mxjUXNm7JgZ7/a7tJgY1V/auicFev2u7iUHNlb1rYrDX79puOQbF84NawX9rhV5Pof+583eRY2CPkf0vKiIPMgvfIyl/vT3l33kGyKPjljNwch3xM29tYuAknuly/9SbGOhvYToY9jGwJvT/wRHGPIPgx0shE4NPGZih/nosV6y4EoNCo8v0HMiy5Q6IwXJL0wXFIG3Z8gQxWG5puqAYpC1bniAGyy1NFxSDtGXLE8RguaXpgmKQtmx5ghgstzRdUAzSli1PEIPllqYLikHasuUJYrDc0nTBSQbB76JRFnlyUOjtMn2muyXMMEBrhs662IO+RYVsWL9f7RZ30wyyHqEe45Y7rjH3xaBilHtUuVdbQj3GNe3PmmkiylaF261/OgfDA6ObGLcSXfOECTATrsvA+nsCiTQD/7gIeoTv64ihrg/WN9mtX2cYOIahp2aovw6dciUGw6y7CyYZ3P3Yl+pfDPg4xEAM+A7wO9AciAHfAX4HmgMx4DvA70BzIAZ8B/gdaA7EgO8AvwPNgRjwHeB3oDm4GwP8Wt/i4AkwsZOCsuHDCXyMgYmd+te8lZ4DtB7jzvFQNnTWxR50KjsG1wzru/I6wekMCiuHHqEe45ZlrrHKw/qtOsT1SQZ28siB3aPgIVGPcSvdO4k00yrCXZ9kYE3HPYofEmti3KrgGjFoWfT7N1vN24cb7unxs/6g/VlAvV1WZVdePH0OCpuG71b31IO+fYVsWL9fjXI3x8AOjK/Bpj2lr3eZBX2x081mDctuFuQYbG7uIduJAR+0GIgB3wF+B5oDMeA7wO9AcyAGfAf4HWgOxIDvAL8DzYEY8B3gd6A5EAO+A/wO0nOQ+qK4EMe/3MfEjkkoixQv9HbZqb/nVpqBteWHGXaJ58S4k4iyobMu9qBT2R85uGZY35XnBTMM/LQedPpDDcatlEIz9Aj1GA/rW+Vh/VadheubGJg7kQNHfMTzox5j1GDsnUSawcTz4k0M7ABxj+IHxpoYtyq45sYM7AzFa+vAxeevnz+o78j8FtbE2AVFUGiuQCI9B8cz9I+BeowLa/ASZf3iyBizsFoRF7Jh/SL9jMscAzuAH6O4PPaHAs86yo4rnni8hSsuCxYv9MEs3PGMOMfgjA5UUwz47wExEAO+A/wONAdiwHeA34HmQAz4DvA70ByIAd8BfgeaAzHgO8DvQHMgBnwH+B1oDsSA7wC/A80Bn8E3MF68BamcZ28AAAAASUVORK5CYII=)"
      ],
      "metadata": {
        "id": "6YcCXKQs3ruo"
      }
    },
    {
      "cell_type": "code",
      "source": [
        "n = 5\n",
        "for i in range(1,n+1):\n",
        "  for j in range(i, 0, -1):\n",
        "    print(chr(65+5-j), end=\"\")\n",
        "  print()"
      ],
      "metadata": {
        "colab": {
          "base_uri": "https://localhost:8080/"
        },
        "id": "r-4iNVvv1Nli",
        "outputId": "48c87471-4426-45e9-fa43-b403f7a4d491"
      },
      "execution_count": 75,
      "outputs": [
        {
          "output_type": "stream",
          "name": "stdout",
          "text": [
            "E\n",
            "DE\n",
            "CDE\n",
            "BCDE\n",
            "ABCDE\n"
          ]
        }
      ]
    },
    {
      "cell_type": "markdown",
      "source": [
        "## **Symmetry**"
      ],
      "metadata": {
        "id": "2zCUOa0UzFIl"
      }
    },
    {
      "cell_type": "markdown",
      "source": [
        "19. ![image.png](data:image/png;base64,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)"
      ],
      "metadata": {
        "id": "NaThRZwS5Oi4"
      }
    },
    {
      "cell_type": "code",
      "source": [
        "rows = 10\n",
        "cols = 10\n",
        "for i in range(rows):\n",
        "    # For the first and last row\n",
        "    if i == 0 or i == rows - 1:\n",
        "        for j in range(cols):\n",
        "            print(\"*\", end=\"\")\n",
        "\n",
        "    elif i == 1 or i == 8:\n",
        "        for j in range(4):\n",
        "            print(\"*\", end=\"\")\n",
        "        for j in range(2):\n",
        "            print(\" \", end=\"\")\n",
        "        for j in range(4):\n",
        "            print(\"*\", end=\"\")\n",
        "\n",
        "    elif i == 2 or i == 7:\n",
        "      for j in range(3):\n",
        "           print(\"*\", end=\"\")\n",
        "      for j in range(4):\n",
        "        print(\" \", end=\"\")\n",
        "      for j in range(3):\n",
        "        print(\"*\", end=\"\")\n",
        "\n",
        "    elif i == 3 or i == 6:\n",
        "      for j in range(2):\n",
        "           print(\"*\", end=\"\")\n",
        "      for j in range(6):\n",
        "        print(\" \", end=\"\")\n",
        "      for j in range(2):\n",
        "        print(\"*\", end=\"\")\n",
        "\n",
        "    else:\n",
        "        print(\"*\", end=\"\")\n",
        "        for j in range(cols - 2):\n",
        "            print(\" \", end=\"\")\n",
        "        print(\"*\", end=\"\")\n",
        "\n",
        "    print()"
      ],
      "metadata": {
        "colab": {
          "base_uri": "https://localhost:8080/"
        },
        "id": "RlmXUBrpszzr",
        "outputId": "c2446c43-a5bc-4c54-cd34-f4a378737ed0"
      },
      "execution_count": 15,
      "outputs": [
        {
          "output_type": "stream",
          "name": "stdout",
          "text": [
            "**********\n",
            "****  ****\n",
            "***    ***\n",
            "**      **\n",
            "*        *\n",
            "*        *\n",
            "**      **\n",
            "***    ***\n",
            "****  ****\n",
            "**********\n"
          ]
        }
      ]
    },
    {
      "cell_type": "markdown",
      "source": [
        "20. ![image.png](data:image/png;base64,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)"
      ],
      "metadata": {
        "id": "3626GIWMrA2G"
      }
    },
    {
      "cell_type": "code",
      "source": [
        "n = 10\n",
        "\n",
        "for i in range(1, n):\n",
        "  if i == 1 or i == 9:\n",
        "    for j in range(1):\n",
        "      print(\"*\", end=\"\")\n",
        "    for j in range(8):\n",
        "      print(\" \", end=\"\")\n",
        "    for j in range(1):\n",
        "      print(\"*\", end=\"\")\n",
        "\n",
        "  elif i ==2 or i == 8:\n",
        "    for j in range(2):\n",
        "      print(\"*\", end=\"\")\n",
        "    for j in range(6):\n",
        "      print(\" \", end=\"\")\n",
        "    for j in range(2):\n",
        "      print(\"*\", end=\"\")\n",
        "\n",
        "  elif i == 3 or i == 7:\n",
        "    for j in range(3):\n",
        "      print(\"*\", end=\"\")\n",
        "    for j in range(4):\n",
        "      print(\" \", end=\"\")\n",
        "    for j in range(3):\n",
        "      print(\"*\", end=\"\")\n",
        "\n",
        "  elif i == 4 or i == 6:\n",
        "    for j in range(4):\n",
        "      print(\"*\", end=\"\")\n",
        "    for j in range(2):\n",
        "      print(\" \", end=\"\")\n",
        "    for j in range(4):\n",
        "      print(\"*\", end=\"\")\n",
        "  else:\n",
        "    for j in range(5):\n",
        "      print(\"*\", end=\"\")\n",
        "    for j in range(5):\n",
        "      print(\"*\", end=\"\")\n",
        "  print()"
      ],
      "metadata": {
        "colab": {
          "base_uri": "https://localhost:8080/"
        },
        "id": "Q8kjK4kl8Vh9",
        "outputId": "dc8ae5ba-16fc-4e1f-bc09-4f109f1cd221"
      },
      "execution_count": 36,
      "outputs": [
        {
          "output_type": "stream",
          "name": "stdout",
          "text": [
            "*        *\n",
            "**      **\n",
            "***    ***\n",
            "****  ****\n",
            "**********\n",
            "****  ****\n",
            "***    ***\n",
            "**      **\n",
            "*        *\n"
          ]
        }
      ]
    },
    {
      "cell_type": "markdown",
      "source": [
        "21. ![image.png](data:image/png;base64,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)"
      ],
      "metadata": {
        "id": "2w-Z22I7skIK"
      }
    },
    {
      "cell_type": "code",
      "source": [
        "n = 4\n",
        "\n",
        "for i in range(1, n+1):\n",
        "  if i == 1 or i == 4:\n",
        "    for j in range(4):\n",
        "      print(\"*\", end=\"\")\n",
        "  if i == 2 or i == 3:\n",
        "    for j in range(1):\n",
        "      print(\"*\", end=\"\")\n",
        "    for j in range(2):\n",
        "      print(\" \", end=\"\")\n",
        "    for j in range(1):\n",
        "      print(\"*\", end=\"\")\n",
        "  print()"
      ],
      "metadata": {
        "colab": {
          "base_uri": "https://localhost:8080/"
        },
        "id": "7RMWsd2SrO1U",
        "outputId": "8acce0ac-dbd1-41ec-da9b-f2777091dc8a"
      },
      "execution_count": 19,
      "outputs": [
        {
          "output_type": "stream",
          "name": "stdout",
          "text": [
            "****\n",
            "*  *\n",
            "*  *\n",
            "****\n"
          ]
        }
      ]
    },
    {
      "cell_type": "markdown",
      "source": [
        "22. ![image.png](data:image/png;base64,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)"
      ],
      "metadata": {
        "id": "Gc3Y4UOZxQ26"
      }
    },
    {
      "cell_type": "code",
      "source": [
        "num = 4\n",
        "n = 7\n",
        "\n",
        "for i in range(1, n+1):\n",
        "  if i == 1 or i == 7:\n",
        "    for j in range(7):\n",
        "      print(num, end=\" \")\n",
        "  elif i == 2 or i == 6:\n",
        "    for j in range(1):\n",
        "      print(num, end=\" \")\n",
        "    for j in range(5):\n",
        "      print(num-1, end=\" \")\n",
        "    for j in range(1):\n",
        "      print(num, end=\" \")\n",
        "\n",
        "  elif i == 3 or i == 5:\n",
        "    for j in range(1):\n",
        "      print(num, end=\" \")\n",
        "    for j in range(1):\n",
        "      print(num-1, end=\" \")\n",
        "    for j in range(3):\n",
        "      print(num-2, end=\" \")\n",
        "    for j in range(1):\n",
        "      print(num-1, end=\" \")\n",
        "    for j in range(1):\n",
        "      print(num, end=\" \")\n",
        "  else:\n",
        "    for j in range(4, 1, -1):\n",
        "      print(j, end=\" \")\n",
        "    for j in range(1, 5):\n",
        "      print(j, end=\" \")\n",
        "\n",
        "  print()"
      ],
      "metadata": {
        "colab": {
          "base_uri": "https://localhost:8080/"
        },
        "id": "zGtx3fwUxGhD",
        "outputId": "b164ae67-5894-43bd-b225-58360eae019a"
      },
      "execution_count": 43,
      "outputs": [
        {
          "output_type": "stream",
          "name": "stdout",
          "text": [
            "4 4 4 4 4 4 4 \n",
            "4 3 3 3 3 3 4 \n",
            "4 3 2 2 2 3 4 \n",
            "4 3 2 1 2 3 4 \n",
            "4 3 2 2 2 3 4 \n",
            "4 3 3 3 3 3 4 \n",
            "4 4 4 4 4 4 4 \n"
          ]
        }
      ]
    }
  ]
}